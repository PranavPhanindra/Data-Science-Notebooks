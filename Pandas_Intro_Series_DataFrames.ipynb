{
  "nbformat": 4,
  "nbformat_minor": 0,
  "metadata": {
    "colab": {
      "name": "Pandas_Intro_Series_DataFrames.ipynb",
      "provenance": [],
      "collapsed_sections": []
    },
    "kernelspec": {
      "name": "python3",
      "display_name": "Python 3"
    },
    "language_info": {
      "name": "python"
    }
  },
  "cells": [
    {
      "cell_type": "code",
      "execution_count": null,
      "metadata": {
        "id": "tR1MuIMkBJD4"
      },
      "outputs": [],
      "source": [
        "import pandas as pd\n",
        "import numpy as np"
      ]
    },
    {
      "cell_type": "code",
      "source": [
        "Series_1 = pd.Series(list('pranav'))\n",
        "Series_1"
      ],
      "metadata": {
        "colab": {
          "base_uri": "https://localhost:8080/"
        },
        "id": "a0oJY_ezBSIj",
        "outputId": "514790c5-cd2f-41d2-cda2-6205458936be"
      },
      "execution_count": null,
      "outputs": [
        {
          "output_type": "execute_result",
          "data": {
            "text/plain": [
              "0    p\n",
              "1    r\n",
              "2    a\n",
              "3    n\n",
              "4    a\n",
              "5    v\n",
              "dtype: object"
            ]
          },
          "metadata": {},
          "execution_count": 3
        }
      ]
    },
    {
      "cell_type": "code",
      "source": [
        "countries = np.array(['Algeria','Angola','Argentina','Australia','Austria','Bahamas','Bangladesh','Belarus','Belgium','Bhutan','Brazil',\n",
        "                      'Bulgaria','Cambodia','Cameroon','Chile','China','Colombia','Cyprus','Denmark','El Salvador','Estonia','Ethiopia',\n",
        "                      'Fiji','Finland','France','Georgia','Ghana','Grenada','Guinea','Haiti','Honduras','Hungary','India','Indonesia',\n",
        "                      'Ireland','Italy','Japan','Kenya', 'South Korea','Liberia','Malaysia','Mexico', 'Morocco','Nepal','New Zealand',\n",
        "                      'Norway','Pakistan', 'Peru','Qatar','Russia','Singapore','South Africa','Spain','Sweden','Switzerland','Thailand',\n",
        "                      'United Arab Emirates','United Kingdom','United States','Uruguay','Venezuela','Vietnam','Zimbabwe'])"
      ],
      "metadata": {
        "id": "aTjkOAQsCGb6"
      },
      "execution_count": null,
      "outputs": []
    },
    {
      "cell_type": "code",
      "source": [
        "Countries_Series = pd.Series(countries)\n",
        "GDP_Series = pd.Series([2255.225482,629.9553062,11601.63022,25306.82494,27266.40335,19466.99052,588.3691778,2890.345675,24733.62696,1445.760002,\n",
        "                         4803.398244,2618.876037,590.4521124,665.7982328,7122.938458,2639.54156,3362.4656,15378.16704,30860.12808,2579.115607,\n",
        "                         6525.541272,229.6769525,2242.689259,27570.4852,23016.84778,1334.646773,402.6953275,6047.200797,394.1156638,385.5793827,\n",
        "                         1414.072488,5745.981529,837.7464011,1206.991065,27715.52837,18937.24998,39578.07441,478.2194906,16684.21278,279.2204061,\n",
        "                         5345.213415,6288.25324,1908.304416,274.8728621,14646.42094,40034.85063,672.1547506,3359.517402,36152.66676,3054.727742,\n",
        "                         33529.83052,3825.093781,15428.32098,33630.24604,39170.41371,2699.123242,21058.43643,28272.40661,37691.02733,9581.05659,\n",
        "                         5671.912202,757.4009286,347.7456605])"
      ],
      "metadata": {
        "id": "2k5_aq0aDVTI"
      },
      "execution_count": null,
      "outputs": []
    },
    {
      "cell_type": "code",
      "source": [
        "Countries_Series"
      ],
      "metadata": {
        "id": "iiUxFZLnDemC"
      },
      "execution_count": null,
      "outputs": []
    },
    {
      "cell_type": "code",
      "source": [
        "GDP_Series"
      ],
      "metadata": {
        "id": "P2i9pXlMDK_V"
      },
      "execution_count": null,
      "outputs": []
    },
    {
      "cell_type": "code",
      "source": [
        "GDP_Country = pd.Series([2255.225482,629.9553062,11601.63022,25306.82494,27266.40335,19466.99052,588.3691778,2890.345675,24733.62696,1445.760002,\n",
        "                         4803.398244,2618.876037,590.4521124,665.7982328,7122.938458,2639.54156,3362.4656,15378.16704,30860.12808,2579.115607,\n",
        "                         6525.541272,229.6769525,2242.689259,27570.4852,23016.84778,1334.646773,402.6953275,6047.200797,394.1156638,385.5793827,\n",
        "                         1414.072488,5745.981529,837.7464011,1206.991065,27715.52837,18937.24998,39578.07441,478.2194906,16684.21278,279.2204061,\n",
        "                         5345.213415,6288.25324,1908.304416,274.8728621,14646.42094,40034.85063,672.1547506,3359.517402,36152.66676,3054.727742,\n",
        "                         33529.83052,3825.093781,15428.32098,33630.24604,39170.41371,2699.123242,21058.43643,28272.40661,37691.02733,9581.05659,\n",
        "                         5671.912202,757.4009286,347.7456605],index = Countries_Series)\n",
        "GDP_Country_2 = GDP_Country"
      ],
      "metadata": {
        "id": "OUefuTZqDj4X"
      },
      "execution_count": null,
      "outputs": []
    },
    {
      "cell_type": "code",
      "source": [
        "GDP_Country"
      ],
      "metadata": {
        "colab": {
          "base_uri": "https://localhost:8080/"
        },
        "id": "iWo4-p5oETq8",
        "outputId": "891a3f34-1d0a-48ef-8d67-776af3e1309b"
      },
      "execution_count": null,
      "outputs": [
        {
          "output_type": "execute_result",
          "data": {
            "text/plain": [
              "Algeria           2255.225482\n",
              "Angola             629.955306\n",
              "Argentina        11601.630220\n",
              "Australia        25306.824940\n",
              "Austria          27266.403350\n",
              "                     ...     \n",
              "United States    37691.027330\n",
              "Uruguay           9581.056590\n",
              "Venezuela         5671.912202\n",
              "Vietnam            757.400929\n",
              "Zimbabwe           347.745660\n",
              "Length: 63, dtype: float64"
            ]
          },
          "metadata": {},
          "execution_count": 27
        }
      ]
    },
    {
      "cell_type": "code",
      "source": [
        "\"\"\"\n",
        "Similar index access and Slicing techniques can be used for the data elements in a series also\n",
        "additionally we can either access by the index element or by the index location as a dictionary element\n",
        "\"\"\"\n",
        "print(GDP_Country['India'])\n",
        "print(GDP_Country[1])"
      ],
      "metadata": {
        "colab": {
          "base_uri": "https://localhost:8080/"
        },
        "id": "mcN0mHOhEY0p",
        "outputId": "f37d1676-8102-4f70-a8c8-2557fc14968a"
      },
      "execution_count": null,
      "outputs": [
        {
          "output_type": "stream",
          "name": "stdout",
          "text": [
            "837.7464011\n",
            "629.9553062\n"
          ]
        }
      ]
    },
    {
      "cell_type": "code",
      "source": [
        "print(GDP_Country + GDP_Country_2)"
      ],
      "metadata": {
        "colab": {
          "base_uri": "https://localhost:8080/"
        },
        "id": "nBJYf5EGFQGb",
        "outputId": "6e014d94-2b55-4c0e-b009-f9e26713918f"
      },
      "execution_count": null,
      "outputs": [
        {
          "output_type": "stream",
          "name": "stdout",
          "text": [
            "Algeria           4510.450964\n",
            "Angola            1259.910612\n",
            "Argentina        23203.260440\n",
            "Australia        50613.649880\n",
            "Austria          54532.806700\n",
            "                     ...     \n",
            "United States    75382.054660\n",
            "Uruguay          19162.113180\n",
            "Venezuela        11343.824404\n",
            "Vietnam           1514.801857\n",
            "Zimbabwe           695.491321\n",
            "Length: 63, dtype: float64\n"
          ]
        }
      ]
    },
    {
      "cell_type": "code",
      "source": [
        "olympic_data_list = pd.DataFrame({\n",
        "\t\t\t\t'HostCity' : ['London' , 'Tokyo' , 'Sydney' , 'Atlanta' ] ,\n",
        "\t\t\t\t'Year' : [2012 , 2008 , 2000 , 1996] ,\n",
        "\t\t\t\t'Participants' : [205,204,200,197]\n",
        "\t\t\t\t})\n",
        "print(olympic_data_list)\n",
        "print(\"Printing HostCity names\")\n",
        "print(olympic_data_list.HostCity)\n"
      ],
      "metadata": {
        "id": "RHBO-qBUHP4r",
        "colab": {
          "base_uri": "https://localhost:8080/"
        },
        "outputId": "d6cb5c82-3926-4f26-85e5-6973bd1e484a"
      },
      "execution_count": null,
      "outputs": [
        {
          "output_type": "stream",
          "name": "stdout",
          "text": [
            "  HostCity  Year  Participants\n",
            "0   London  2012           205\n",
            "1    Tokyo  2008           204\n",
            "2   Sydney  2000           200\n",
            "3  Atlanta  1996           197\n",
            "Printing HostCity names\n",
            "0     London\n",
            "1      Tokyo\n",
            "2     Sydney\n",
            "3    Atlanta\n",
            "Name: HostCity, dtype: object\n"
          ]
        }
      ]
    },
    {
      "cell_type": "code",
      "source": [
        "print(\"Creating a data frame from a dictionary\")\n",
        "\n",
        "student = pd.DataFrame({'London':{2012:205} , 'Beijing' : { 2008:204 }})\n",
        "print(student)\n"
      ],
      "metadata": {
        "colab": {
          "base_uri": "https://localhost:8080/"
        },
        "id": "In52NsYIAhrv",
        "outputId": "9b9af126-ca1e-451a-d3a7-14a5675485c4"
      },
      "execution_count": null,
      "outputs": [
        {
          "output_type": "stream",
          "name": "stdout",
          "text": [
            "Creating a data frame from a dictionary\n",
            "      London  Beijing\n",
            "2012   205.0      NaN\n",
            "2008     NaN    204.0\n"
          ]
        }
      ]
    },
    {
      "cell_type": "code",
      "source": [
        "print(student.describe)\n",
        "print(olympic_data_list.describe)\n"
      ],
      "metadata": {
        "colab": {
          "base_uri": "https://localhost:8080/"
        },
        "id": "a4Kk_5PwAvU0",
        "outputId": "fc73797d-5b7a-4702-b21b-70d7e8806f96"
      },
      "execution_count": null,
      "outputs": [
        {
          "output_type": "stream",
          "name": "stdout",
          "text": [
            "<bound method NDFrame.describe of       London  Beijing\n",
            "2012   205.0      NaN\n",
            "2008     NaN    204.0>\n",
            "<bound method NDFrame.describe of   HostCity  Year  Participants\n",
            "0   London  2012           205\n",
            "1    Tokyo  2008           204\n",
            "2   Sydney  2000           200\n",
            "3  Atlanta  1996           197>\n"
          ]
        }
      ]
    },
    {
      "cell_type": "markdown",
      "source": [
        "General format is \n",
        "< Data_Frame name >  = pandas.DataFrame({'Column_NAme_1' : List , ... , 'Column_Name_n' : List})"
      ],
      "metadata": {
        "id": "57i4Vz0GCHIx"
      }
    },
    {
      "cell_type": "code",
      "source": [
        "print(GDP_Series)\n",
        "print(Countries_Series)"
      ],
      "metadata": {
        "id": "-OyXInKtAyAe"
      },
      "execution_count": null,
      "outputs": []
    },
    {
      "cell_type": "markdown",
      "source": [
        "Creating a DataFrame from the alreadr existing series "
      ],
      "metadata": {
        "id": "VrXeTIuUEajS"
      }
    },
    {
      "cell_type": "code",
      "source": [
        "GDP_DataFrame = pd.DataFrame({\"Country\" : Countries_Series , \"GDP\" : GDP_Series } )"
      ],
      "metadata": {
        "id": "9ag-NOwMEWkP"
      },
      "execution_count": null,
      "outputs": []
    },
    {
      "cell_type": "code",
      "source": [
        "print(GDP_DataFrame)\n",
        "print(GDP_DataFrame.Country)\n",
        "print(GDP_DataFrame.GDP )"
      ],
      "metadata": {
        "colab": {
          "base_uri": "https://localhost:8080/"
        },
        "id": "BfRfR4daFZzs",
        "outputId": "014be80b-8e42-4bd2-f676-398733378686"
      },
      "execution_count": null,
      "outputs": [
        {
          "output_type": "stream",
          "name": "stdout",
          "text": [
            "          Country           GDP\n",
            "0         Algeria   2255.225482\n",
            "1          Angola    629.955306\n",
            "2       Argentina  11601.630220\n",
            "3       Australia  25306.824940\n",
            "4         Austria  27266.403350\n",
            "..            ...           ...\n",
            "58  United States  37691.027330\n",
            "59        Uruguay   9581.056590\n",
            "60      Venezuela   5671.912202\n",
            "61        Vietnam    757.400929\n",
            "62       Zimbabwe    347.745660\n",
            "\n",
            "[63 rows x 2 columns]\n",
            "0           Algeria\n",
            "1            Angola\n",
            "2         Argentina\n",
            "3         Australia\n",
            "4           Austria\n",
            "          ...      \n",
            "58    United States\n",
            "59          Uruguay\n",
            "60        Venezuela\n",
            "61          Vietnam\n",
            "62         Zimbabwe\n",
            "Name: Country, Length: 63, dtype: object\n",
            "0      2255.225482\n",
            "1       629.955306\n",
            "2     11601.630220\n",
            "3     25306.824940\n",
            "4     27266.403350\n",
            "          ...     \n",
            "58    37691.027330\n",
            "59     9581.056590\n",
            "60     5671.912202\n",
            "61      757.400929\n",
            "62      347.745660\n",
            "Name: GDP, Length: 63, dtype: float64\n"
          ]
        }
      ]
    },
    {
      "cell_type": "code",
      "source": [
        ""
      ],
      "metadata": {
        "id": "YSWwlbxKFdp5"
      },
      "execution_count": null,
      "outputs": []
    }
  ]
}