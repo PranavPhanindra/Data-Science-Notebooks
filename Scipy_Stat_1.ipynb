{
  "nbformat": 4,
  "nbformat_minor": 0,
  "metadata": {
    "colab": {
      "name": "Scipy_Stat_1.ipynb",
      "provenance": [],
      "collapsed_sections": []
    },
    "kernelspec": {
      "name": "python3",
      "display_name": "Python 3"
    },
    "language_info": {
      "name": "python"
    }
  },
  "cells": [
    {
      "cell_type": "code",
      "execution_count": null,
      "metadata": {
        "id": "xP6W8ZFPvRZk"
      },
      "outputs": [],
      "source": [
        "import scipy\n",
        "from scipy.stats import norm"
      ]
    },
    {
      "cell_type": "code",
      "source": [
        "norm.rvs(loc = 0 , scale = 1 , size = 10)"
      ],
      "metadata": {
        "colab": {
          "base_uri": "https://localhost:8080/"
        },
        "id": "5-RfrHSMvrk_",
        "outputId": "9bca14cd-7abd-4a31-b57e-044cccfb5743"
      },
      "execution_count": null,
      "outputs": [
        {
          "output_type": "execute_result",
          "data": {
            "text/plain": [
              "array([ 1.3786833 ,  0.54323217, -1.46171163, -0.63546294, -0.24015325,\n",
              "       -1.19956548,  1.67534091, -0.74630962, -1.29372299,  0.58560656])"
            ]
          },
          "metadata": {},
          "execution_count": 5
        }
      ]
    },
    {
      "cell_type": "code",
      "source": [
        "norm.cdf(5 , loc = 1 , scale = 2)"
      ],
      "metadata": {
        "colab": {
          "base_uri": "https://localhost:8080/"
        },
        "id": "8H9vCZ3XwZqJ",
        "outputId": "dfd1e5f3-eae0-43fc-b072-a5723bdf7f0b"
      },
      "execution_count": null,
      "outputs": [
        {
          "output_type": "execute_result",
          "data": {
            "text/plain": [
              "0.9772498680518208"
            ]
          },
          "metadata": {},
          "execution_count": 6
        }
      ]
    },
    {
      "cell_type": "code",
      "source": [
        "norm.pdf(9,loc = 0, scale = 1)"
      ],
      "metadata": {
        "colab": {
          "base_uri": "https://localhost:8080/"
        },
        "id": "cj40kgRawiO5",
        "outputId": "ad7c72b3-44f8-40e7-e5ab-7588e6fc6667"
      },
      "execution_count": null,
      "outputs": [
        {
          "output_type": "execute_result",
          "data": {
            "text/plain": [
              "1.0279773571668917e-18"
            ]
          },
          "metadata": {},
          "execution_count": 8
        }
      ]
    },
    {
      "cell_type": "code",
      "source": [
        ""
      ],
      "metadata": {
        "id": "TTQmwgQ7wohB"
      },
      "execution_count": null,
      "outputs": []
    }
  ]
}